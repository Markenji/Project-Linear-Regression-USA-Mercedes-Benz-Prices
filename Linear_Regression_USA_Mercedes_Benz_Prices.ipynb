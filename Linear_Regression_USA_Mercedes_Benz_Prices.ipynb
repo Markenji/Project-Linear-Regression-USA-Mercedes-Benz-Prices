{
  "nbformat": 4,
  "nbformat_minor": 0,
  "metadata": {
    "colab": {
      "provenance": []
    },
    "kernelspec": {
      "name": "python3",
      "display_name": "Python 3"
    },
    "language_info": {
      "name": "python"
    }
  },
  "cells": [
    {
      "cell_type": "markdown",
      "source": [
        "# USA Mercedes Benz\n",
        "\n"
      ],
      "metadata": {
        "id": "-YWAt8D0WtXE"
      }
    },
    {
      "cell_type": "markdown",
      "source": [
        "## Latar Belakang"
      ],
      "metadata": {
        "id": "kObC2l-MXXcu"
      }
    },
    {
      "cell_type": "markdown",
      "source": [
        "Di jantung kota metropolitan Chicago, berdirilah sebuah perusahaan penjual mobil bekas yang cukup terkenal, bernama Markenji Second Car. Didirikan sepuluh tahun yang lalu oleh seorang pengusaha muda visioner bernama Markenji FullBaster, perusahaan ini berkembang pesat berkat reputasi mereka dalam menyediakan mobil bekas berkualitas, terutama mobil-mobil mewah seperti Mercedes-Benz, dengan harga yang kompetitif. Namun, di balik kesuksesan tersebut, ada satu tantangan besar yang terus menghantui Markenji dan timnya: bagaimana menentukan harga mobil bekas Mercedes-Benz dengan baik dan benar di pasar Amerika Serikat."
      ],
      "metadata": {
        "id": "9KuESOxaX-LF"
      }
    },
    {
      "cell_type": "markdown",
      "source": [
        "### Permasalahan yang Dihadapi"
      ],
      "metadata": {
        "id": "h596koleX_mB"
      }
    },
    {
      "cell_type": "markdown",
      "source": [
        "Dalam perjalanannya untuk berbisnis perusahaan Markenji Second Car mengalami banyak kendala dimana untuk menentukan harga mobil itu harus berdasarkan apa saja. Karena dalam penentuanya banyak faktor yang menjadi pengaruh mulai dari harga pasar dan juga kondisi mobil. Dimana kali ini fokus utama adalah pada kondisi mobil yang akan menjadi perhatian utama.Berikut adalah penjelasan faktor-faktor yang mempengaruhi harga Mobil:"
      ],
      "metadata": {
        "id": "FtP77JIiYoXV"
      }
    },
    {
      "cell_type": "markdown",
      "source": [
        "1. Fluktuasi Harga Pasar Mobil Mewah:\n",
        "Pasar mobil mewah bekas sangat dinamis. Harga mobil seperti Mercedes-Benz dapat berubah dengan cepat dipengaruhi oleh berbagai faktor seperti perubahan ekonomi, peluncuran model baru, hingga perubahan preferensi konsumen. Hal ini membuat penentuan harga yang tepat menjadi semakin kompleks dan menantang.\n",
        "\n",
        "2. Kondisi Mobil yang Beragam:\n",
        "Setiap mobil Mercedes-Benz bekas memiliki kondisi yang berbeda-beda berdasarkan usia, jarak tempuh, perawatan sebelumnya, dan riwayat kecelakaan. Menilai kondisi ini secara akurat untuk menentukan harga yang sesuai adalah tantangan tersendiri bagi tim penilai di Markenji.\n",
        "\n",
        "3. Persaingan dengan Perusahaan Lain:\n",
        "Banyaknya kompetitor di industri mobil mewah bekas membuat Markenji harus terus berinovasi dalam menentukan harga yang menarik tanpa mengorbankan kualitas dan keuntungan. Penetapan harga yang terlalu tinggi dapat membuat calon pembeli beralih ke kompetitor, sementara harga yang terlalu rendah dapat merugikan perusahaan.\n",
        "\n",
        "4. Teknologi Penilaian yang Terbatas:\n",
        "Meskipun telah ada beberapa perangkat lunak dan algoritma untuk membantu penilaian harga mobil bekas, teknologi tersebut masih memiliki keterbatasan. Sebagian besar penilaian masih bergantung pada pengalaman dan insting dari para penilai yang tentunya bisa bersifat subjektif.\n",
        "\n",
        "5. Permintaan dan Penawaran yang Berubah:\n",
        "Permintaan konsumen terhadap tipe dan model Mercedes-Benz tertentu bisa sangat bervariasi. Misalnya, SUV dan sedan mewah mungkin lebih diminati di satu waktu, sementara mobil sport lebih dicari di waktu lain. Menyesuaikan harga dengan permintaan pasar ini merupakan tantangan yang perlu diatasi."
      ],
      "metadata": {
        "id": "88wPr4c-YDfI"
      }
    },
    {
      "cell_type": "markdown",
      "source": [
        "#### Apa yang menjadi penentu harga mobil ? sehingga penentuan harga dapat maksimal"
      ],
      "metadata": {
        "id": "gtXXchu4audP"
      }
    },
    {
      "cell_type": "markdown",
      "source": [
        "1. Mileage:\n",
        "\n",
        "* Seberapa signifikan pengaruh jarak tempuh (mileage) terhadap penurunan harga mobil bekas?\n",
        "* Bagaimana perbedaan harga mobil bekas yang memiliki jarak tempuh tinggi dibandingkan dengan yang memiliki jarak tempuh rendah?\n",
        "* Apakah ada standar atau aturan tertentu dalam industri mobil bekas mengenai harga berdasarkan kategori jarak tempuh?\n",
        "\n",
        "2. Rating:\n",
        "\n",
        "* Bagaimana rating (penilaian dari pengguna) mempengaruhi persepsi konsumen terhadap nilai mobil bekas?\n",
        "* Apakah mobil dengan rating tinggi cenderung memiliki harga jual yang lebih tinggi dibandingkan dengan mobil dengan rating rendah? Mengapa demikian?\n",
        "* Seberapa penting rating dalam keputusan harga dibandingkan dengan faktor-faktor fisik mobil seperti kondisi mesin atau usia mobil?\n",
        "\n",
        "3. Review Count:\n",
        "\n",
        "* Apakah jumlah ulasan (review count) memiliki korelasi langsung dengan harga mobil bekas? Bagaimana hubungan ini dijelaskan?\n",
        "* Bagaimana kualitas ulasan mempengaruhi harga mobil bekas? Apakah banyaknya ulasan positif dapat menaikkan harga lebih signifikan dibandingkan dengan sedikit ulasan tetapi sangat positif?\n",
        "* Dalam konteks pemasaran, apakah fokus pada peningkatan jumlah ulasan bisa lebih efektif dibandingkan dengan meningkatkan rating untuk mempengaruhi harga jual mobil bekas?"
      ],
      "metadata": {
        "id": "7V1CPYOUXZqJ"
      }
    },
    {
      "cell_type": "markdown",
      "source": [
        "#### Import Library"
      ],
      "metadata": {
        "id": "SaZ8MqPLbp5e"
      }
    },
    {
      "cell_type": "code",
      "source": [
        "import pandas as pd\n",
        "import numpy as np\n",
        "import re\n",
        "import statsmodels.api as sm\n",
        "\n",
        "import matplotlib.pyplot as plt\n",
        "import seaborn as sns"
      ],
      "metadata": {
        "id": "Ihegj2BBWwcr"
      },
      "execution_count": 1,
      "outputs": []
    },
    {
      "cell_type": "markdown",
      "source": [
        "#### Import Dataset"
      ],
      "metadata": {
        "id": "qexVHAAxbtgw"
      }
    },
    {
      "cell_type": "code",
      "source": [
        "data = pd.read_csv(\"https://raw.githubusercontent.com/Markenji/Linear-Regression-USA-Mercedes-Benz-Prices/main/usa_mercedes_benz_prices.csv\")\n",
        "df = data"
      ],
      "metadata": {
        "id": "6WMz9wACYSrg"
      },
      "execution_count": 2,
      "outputs": []
    },
    {
      "cell_type": "markdown",
      "source": [
        "#### Data"
      ],
      "metadata": {
        "id": "BoKar7DibzjK"
      }
    },
    {
      "cell_type": "code",
      "source": [
        "df.head()"
      ],
      "metadata": {
        "colab": {
          "base_uri": "https://localhost:8080/",
          "height": 206
        },
        "id": "vJX-CldxYYVi",
        "outputId": "8a3740af-f18b-47d0-bd65-6bb4e57cee8b"
      },
      "execution_count": 3,
      "outputs": [
        {
          "output_type": "execute_result",
          "data": {
            "text/plain": [
              "                                        Name     Mileage  Rating Review Count  \\\n",
              "0    2021 Mercedes-Benz A-Class A 220 4MATIC  29,636 mi.     3.9       1,800    \n",
              "1          2022 Mercedes-Benz AMG SL 63 Base   5,540 mi.     4.7       1,239    \n",
              "2          2022 Mercedes-Benz AMG SL 63 Base   4,890 mi.     4.7       1,239    \n",
              "3    2020 Mercedes-Benz AMG E 53 Base 4MATIC  29,746 mi.     4.8         752    \n",
              "4  2021 Mercedes-Benz AMG GLS 63 Base 4MATIC  32,631 mi.     5.0       1,502    \n",
              "\n",
              "      Price  \n",
              "0   $30,900  \n",
              "1  $139,999  \n",
              "2  $132,999  \n",
              "3   $58,587  \n",
              "4   $95,990  "
            ],
            "text/html": [
              "\n",
              "  <div id=\"df-588a120f-0149-4a72-bc8f-1c9f2fe83027\" class=\"colab-df-container\">\n",
              "    <div>\n",
              "<style scoped>\n",
              "    .dataframe tbody tr th:only-of-type {\n",
              "        vertical-align: middle;\n",
              "    }\n",
              "\n",
              "    .dataframe tbody tr th {\n",
              "        vertical-align: top;\n",
              "    }\n",
              "\n",
              "    .dataframe thead th {\n",
              "        text-align: right;\n",
              "    }\n",
              "</style>\n",
              "<table border=\"1\" class=\"dataframe\">\n",
              "  <thead>\n",
              "    <tr style=\"text-align: right;\">\n",
              "      <th></th>\n",
              "      <th>Name</th>\n",
              "      <th>Mileage</th>\n",
              "      <th>Rating</th>\n",
              "      <th>Review Count</th>\n",
              "      <th>Price</th>\n",
              "    </tr>\n",
              "  </thead>\n",
              "  <tbody>\n",
              "    <tr>\n",
              "      <th>0</th>\n",
              "      <td>2021 Mercedes-Benz A-Class A 220 4MATIC</td>\n",
              "      <td>29,636 mi.</td>\n",
              "      <td>3.9</td>\n",
              "      <td>1,800</td>\n",
              "      <td>$30,900</td>\n",
              "    </tr>\n",
              "    <tr>\n",
              "      <th>1</th>\n",
              "      <td>2022 Mercedes-Benz AMG SL 63 Base</td>\n",
              "      <td>5,540 mi.</td>\n",
              "      <td>4.7</td>\n",
              "      <td>1,239</td>\n",
              "      <td>$139,999</td>\n",
              "    </tr>\n",
              "    <tr>\n",
              "      <th>2</th>\n",
              "      <td>2022 Mercedes-Benz AMG SL 63 Base</td>\n",
              "      <td>4,890 mi.</td>\n",
              "      <td>4.7</td>\n",
              "      <td>1,239</td>\n",
              "      <td>$132,999</td>\n",
              "    </tr>\n",
              "    <tr>\n",
              "      <th>3</th>\n",
              "      <td>2020 Mercedes-Benz AMG E 53 Base 4MATIC</td>\n",
              "      <td>29,746 mi.</td>\n",
              "      <td>4.8</td>\n",
              "      <td>752</td>\n",
              "      <td>$58,587</td>\n",
              "    </tr>\n",
              "    <tr>\n",
              "      <th>4</th>\n",
              "      <td>2021 Mercedes-Benz AMG GLS 63 Base 4MATIC</td>\n",
              "      <td>32,631 mi.</td>\n",
              "      <td>5.0</td>\n",
              "      <td>1,502</td>\n",
              "      <td>$95,990</td>\n",
              "    </tr>\n",
              "  </tbody>\n",
              "</table>\n",
              "</div>\n",
              "    <div class=\"colab-df-buttons\">\n",
              "\n",
              "  <div class=\"colab-df-container\">\n",
              "    <button class=\"colab-df-convert\" onclick=\"convertToInteractive('df-588a120f-0149-4a72-bc8f-1c9f2fe83027')\"\n",
              "            title=\"Convert this dataframe to an interactive table.\"\n",
              "            style=\"display:none;\">\n",
              "\n",
              "  <svg xmlns=\"http://www.w3.org/2000/svg\" height=\"24px\" viewBox=\"0 -960 960 960\">\n",
              "    <path d=\"M120-120v-720h720v720H120Zm60-500h600v-160H180v160Zm220 220h160v-160H400v160Zm0 220h160v-160H400v160ZM180-400h160v-160H180v160Zm440 0h160v-160H620v160ZM180-180h160v-160H180v160Zm440 0h160v-160H620v160Z\"/>\n",
              "  </svg>\n",
              "    </button>\n",
              "\n",
              "  <style>\n",
              "    .colab-df-container {\n",
              "      display:flex;\n",
              "      gap: 12px;\n",
              "    }\n",
              "\n",
              "    .colab-df-convert {\n",
              "      background-color: #E8F0FE;\n",
              "      border: none;\n",
              "      border-radius: 50%;\n",
              "      cursor: pointer;\n",
              "      display: none;\n",
              "      fill: #1967D2;\n",
              "      height: 32px;\n",
              "      padding: 0 0 0 0;\n",
              "      width: 32px;\n",
              "    }\n",
              "\n",
              "    .colab-df-convert:hover {\n",
              "      background-color: #E2EBFA;\n",
              "      box-shadow: 0px 1px 2px rgba(60, 64, 67, 0.3), 0px 1px 3px 1px rgba(60, 64, 67, 0.15);\n",
              "      fill: #174EA6;\n",
              "    }\n",
              "\n",
              "    .colab-df-buttons div {\n",
              "      margin-bottom: 4px;\n",
              "    }\n",
              "\n",
              "    [theme=dark] .colab-df-convert {\n",
              "      background-color: #3B4455;\n",
              "      fill: #D2E3FC;\n",
              "    }\n",
              "\n",
              "    [theme=dark] .colab-df-convert:hover {\n",
              "      background-color: #434B5C;\n",
              "      box-shadow: 0px 1px 3px 1px rgba(0, 0, 0, 0.15);\n",
              "      filter: drop-shadow(0px 1px 2px rgba(0, 0, 0, 0.3));\n",
              "      fill: #FFFFFF;\n",
              "    }\n",
              "  </style>\n",
              "\n",
              "    <script>\n",
              "      const buttonEl =\n",
              "        document.querySelector('#df-588a120f-0149-4a72-bc8f-1c9f2fe83027 button.colab-df-convert');\n",
              "      buttonEl.style.display =\n",
              "        google.colab.kernel.accessAllowed ? 'block' : 'none';\n",
              "\n",
              "      async function convertToInteractive(key) {\n",
              "        const element = document.querySelector('#df-588a120f-0149-4a72-bc8f-1c9f2fe83027');\n",
              "        const dataTable =\n",
              "          await google.colab.kernel.invokeFunction('convertToInteractive',\n",
              "                                                    [key], {});\n",
              "        if (!dataTable) return;\n",
              "\n",
              "        const docLinkHtml = 'Like what you see? Visit the ' +\n",
              "          '<a target=\"_blank\" href=https://colab.research.google.com/notebooks/data_table.ipynb>data table notebook</a>'\n",
              "          + ' to learn more about interactive tables.';\n",
              "        element.innerHTML = '';\n",
              "        dataTable['output_type'] = 'display_data';\n",
              "        await google.colab.output.renderOutput(dataTable, element);\n",
              "        const docLink = document.createElement('div');\n",
              "        docLink.innerHTML = docLinkHtml;\n",
              "        element.appendChild(docLink);\n",
              "      }\n",
              "    </script>\n",
              "  </div>\n",
              "\n",
              "\n",
              "<div id=\"df-7d3d48a7-cd5e-47e4-b32a-bded32bf9d0b\">\n",
              "  <button class=\"colab-df-quickchart\" onclick=\"quickchart('df-7d3d48a7-cd5e-47e4-b32a-bded32bf9d0b')\"\n",
              "            title=\"Suggest charts\"\n",
              "            style=\"display:none;\">\n",
              "\n",
              "<svg xmlns=\"http://www.w3.org/2000/svg\" height=\"24px\"viewBox=\"0 0 24 24\"\n",
              "     width=\"24px\">\n",
              "    <g>\n",
              "        <path d=\"M19 3H5c-1.1 0-2 .9-2 2v14c0 1.1.9 2 2 2h14c1.1 0 2-.9 2-2V5c0-1.1-.9-2-2-2zM9 17H7v-7h2v7zm4 0h-2V7h2v10zm4 0h-2v-4h2v4z\"/>\n",
              "    </g>\n",
              "</svg>\n",
              "  </button>\n",
              "\n",
              "<style>\n",
              "  .colab-df-quickchart {\n",
              "      --bg-color: #E8F0FE;\n",
              "      --fill-color: #1967D2;\n",
              "      --hover-bg-color: #E2EBFA;\n",
              "      --hover-fill-color: #174EA6;\n",
              "      --disabled-fill-color: #AAA;\n",
              "      --disabled-bg-color: #DDD;\n",
              "  }\n",
              "\n",
              "  [theme=dark] .colab-df-quickchart {\n",
              "      --bg-color: #3B4455;\n",
              "      --fill-color: #D2E3FC;\n",
              "      --hover-bg-color: #434B5C;\n",
              "      --hover-fill-color: #FFFFFF;\n",
              "      --disabled-bg-color: #3B4455;\n",
              "      --disabled-fill-color: #666;\n",
              "  }\n",
              "\n",
              "  .colab-df-quickchart {\n",
              "    background-color: var(--bg-color);\n",
              "    border: none;\n",
              "    border-radius: 50%;\n",
              "    cursor: pointer;\n",
              "    display: none;\n",
              "    fill: var(--fill-color);\n",
              "    height: 32px;\n",
              "    padding: 0;\n",
              "    width: 32px;\n",
              "  }\n",
              "\n",
              "  .colab-df-quickchart:hover {\n",
              "    background-color: var(--hover-bg-color);\n",
              "    box-shadow: 0 1px 2px rgba(60, 64, 67, 0.3), 0 1px 3px 1px rgba(60, 64, 67, 0.15);\n",
              "    fill: var(--button-hover-fill-color);\n",
              "  }\n",
              "\n",
              "  .colab-df-quickchart-complete:disabled,\n",
              "  .colab-df-quickchart-complete:disabled:hover {\n",
              "    background-color: var(--disabled-bg-color);\n",
              "    fill: var(--disabled-fill-color);\n",
              "    box-shadow: none;\n",
              "  }\n",
              "\n",
              "  .colab-df-spinner {\n",
              "    border: 2px solid var(--fill-color);\n",
              "    border-color: transparent;\n",
              "    border-bottom-color: var(--fill-color);\n",
              "    animation:\n",
              "      spin 1s steps(1) infinite;\n",
              "  }\n",
              "\n",
              "  @keyframes spin {\n",
              "    0% {\n",
              "      border-color: transparent;\n",
              "      border-bottom-color: var(--fill-color);\n",
              "      border-left-color: var(--fill-color);\n",
              "    }\n",
              "    20% {\n",
              "      border-color: transparent;\n",
              "      border-left-color: var(--fill-color);\n",
              "      border-top-color: var(--fill-color);\n",
              "    }\n",
              "    30% {\n",
              "      border-color: transparent;\n",
              "      border-left-color: var(--fill-color);\n",
              "      border-top-color: var(--fill-color);\n",
              "      border-right-color: var(--fill-color);\n",
              "    }\n",
              "    40% {\n",
              "      border-color: transparent;\n",
              "      border-right-color: var(--fill-color);\n",
              "      border-top-color: var(--fill-color);\n",
              "    }\n",
              "    60% {\n",
              "      border-color: transparent;\n",
              "      border-right-color: var(--fill-color);\n",
              "    }\n",
              "    80% {\n",
              "      border-color: transparent;\n",
              "      border-right-color: var(--fill-color);\n",
              "      border-bottom-color: var(--fill-color);\n",
              "    }\n",
              "    90% {\n",
              "      border-color: transparent;\n",
              "      border-bottom-color: var(--fill-color);\n",
              "    }\n",
              "  }\n",
              "</style>\n",
              "\n",
              "  <script>\n",
              "    async function quickchart(key) {\n",
              "      const quickchartButtonEl =\n",
              "        document.querySelector('#' + key + ' button');\n",
              "      quickchartButtonEl.disabled = true;  // To prevent multiple clicks.\n",
              "      quickchartButtonEl.classList.add('colab-df-spinner');\n",
              "      try {\n",
              "        const charts = await google.colab.kernel.invokeFunction(\n",
              "            'suggestCharts', [key], {});\n",
              "      } catch (error) {\n",
              "        console.error('Error during call to suggestCharts:', error);\n",
              "      }\n",
              "      quickchartButtonEl.classList.remove('colab-df-spinner');\n",
              "      quickchartButtonEl.classList.add('colab-df-quickchart-complete');\n",
              "    }\n",
              "    (() => {\n",
              "      let quickchartButtonEl =\n",
              "        document.querySelector('#df-7d3d48a7-cd5e-47e4-b32a-bded32bf9d0b button');\n",
              "      quickchartButtonEl.style.display =\n",
              "        google.colab.kernel.accessAllowed ? 'block' : 'none';\n",
              "    })();\n",
              "  </script>\n",
              "</div>\n",
              "\n",
              "    </div>\n",
              "  </div>\n"
            ],
            "application/vnd.google.colaboratory.intrinsic+json": {
              "type": "dataframe",
              "variable_name": "df",
              "summary": "{\n  \"name\": \"df\",\n  \"rows\": 2429,\n  \"fields\": [\n    {\n      \"column\": \"Name\",\n      \"properties\": {\n        \"dtype\": \"category\",\n        \"num_unique_values\": 486,\n        \"samples\": [\n          \"2017 Mercedes-Benz GLA 250 Base\",\n          \"2020 Mercedes-Benz AMG A 35 4MATIC\",\n          \"2023 Mercedes-Benz EQS 450+ \"\n        ],\n        \"semantic_type\": \"\",\n        \"description\": \"\"\n      }\n    },\n    {\n      \"column\": \"Mileage\",\n      \"properties\": {\n        \"dtype\": \"string\",\n        \"num_unique_values\": 2322,\n        \"samples\": [\n          \"36,301 mi.\",\n          \"15,637 mi.\",\n          \"7,338 mi.\"\n        ],\n        \"semantic_type\": \"\",\n        \"description\": \"\"\n      }\n    },\n    {\n      \"column\": \"Rating\",\n      \"properties\": {\n        \"dtype\": \"number\",\n        \"std\": 0.38650616845619384,\n        \"min\": 2.1,\n        \"max\": 5.0,\n        \"num_unique_values\": 25,\n        \"samples\": [\n          4.3,\n          4.1,\n          3.9\n        ],\n        \"semantic_type\": \"\",\n        \"description\": \"\"\n      }\n    },\n    {\n      \"column\": \"Review Count\",\n      \"properties\": {\n        \"dtype\": \"category\",\n        \"num_unique_values\": 261,\n        \"samples\": [\n          \"2,931 \",\n          \"827 \",\n          \"416 \"\n        ],\n        \"semantic_type\": \"\",\n        \"description\": \"\"\n      }\n    },\n    {\n      \"column\": \"Price\",\n      \"properties\": {\n        \"dtype\": \"string\",\n        \"num_unique_values\": 1941,\n        \"samples\": [\n          \"$90,972\",\n          \"$24,888\",\n          \"$95,981\"\n        ],\n        \"semantic_type\": \"\",\n        \"description\": \"\"\n      }\n    }\n  ]\n}"
            }
          },
          "metadata": {},
          "execution_count": 3
        }
      ]
    },
    {
      "cell_type": "code",
      "source": [
        "# Melakukan pengecekan pada tipe data tiap kolum\n",
        "df.info()"
      ],
      "metadata": {
        "id": "ukfIoozRYZTu",
        "colab": {
          "base_uri": "https://localhost:8080/"
        },
        "outputId": "289ce0ae-e108-4519-e94b-365996b343fb"
      },
      "execution_count": 4,
      "outputs": [
        {
          "output_type": "stream",
          "name": "stdout",
          "text": [
            "<class 'pandas.core.frame.DataFrame'>\n",
            "RangeIndex: 2429 entries, 0 to 2428\n",
            "Data columns (total 5 columns):\n",
            " #   Column        Non-Null Count  Dtype  \n",
            "---  ------        --------------  -----  \n",
            " 0   Name          2429 non-null   object \n",
            " 1   Mileage       2429 non-null   object \n",
            " 2   Rating        2135 non-null   float64\n",
            " 3   Review Count  2398 non-null   object \n",
            " 4   Price         2429 non-null   object \n",
            "dtypes: float64(1), object(4)\n",
            "memory usage: 95.0+ KB\n"
          ]
        }
      ]
    },
    {
      "cell_type": "markdown",
      "source": [
        "Dataset ini menyediakan informasi mengenai daftar mobil di Amerika Serikat, dengan fokus pada berbagai model kendaraan Mercedes-Benz. Dataset ini mencakup bidang-bidang berikut:\n",
        "\n",
        "* Nama: Nama dan model mobil.\n",
        "* Jarak Tempuh: Jarak tempuh mobil dalam mil.\n",
        "* Penilaian: Penilaian rata-rata dari dealer mobil.\n",
        "* Jumlah Ulasan: Jumlah ulasan untuk dealer mobil.\n",
        "* Harga: Harga mobil dalam dolar AS.\n",
        "\n",
        "Dataset ini mencakup berbagai model Mercedes-Benz dari tahun yang berbeda, memberikan wawasan tentang jarak tempuh, penilaian, ulasan, dan harga mereka."
      ],
      "metadata": {
        "id": "WbgsTqR3cVPD"
      }
    },
    {
      "cell_type": "markdown",
      "source": [
        "### Kesimpulan Statistik"
      ],
      "metadata": {
        "id": "d4y5qxGuVozF"
      }
    },
    {
      "cell_type": "code",
      "source": [
        "# Summary statistics\n",
        "print(\"\\nSummary statistics:\")\n",
        "print(df.describe())"
      ],
      "metadata": {
        "colab": {
          "base_uri": "https://localhost:8080/"
        },
        "id": "kHqKmRNzT-6M",
        "outputId": "6d1384d3-e4e0-428c-f8b3-72bf1eb8ffed"
      },
      "execution_count": 5,
      "outputs": [
        {
          "output_type": "stream",
          "name": "stdout",
          "text": [
            "\n",
            "Summary statistics:\n",
            "            Rating\n",
            "count  2135.000000\n",
            "mean      4.533724\n",
            "std       0.386506\n",
            "min       2.100000\n",
            "25%       4.400000\n",
            "50%       4.600000\n",
            "75%       4.800000\n",
            "max       5.000000\n"
          ]
        }
      ]
    },
    {
      "cell_type": "markdown",
      "source": [
        "Saat di coba untuk dilihat kesimpulan statistiknya hanya Rating yang keluar nantinya diperluhkan casting atau perubahan tipe data dari objek ke float."
      ],
      "metadata": {
        "id": "-pyC9exvWpeF"
      }
    },
    {
      "cell_type": "code",
      "source": [
        "df.head()"
      ],
      "metadata": {
        "colab": {
          "base_uri": "https://localhost:8080/",
          "height": 206
        },
        "id": "_TSryVOoZrdn",
        "outputId": "c2f595bd-4490-429e-8add-d9c526aee20b"
      },
      "execution_count": 6,
      "outputs": [
        {
          "output_type": "execute_result",
          "data": {
            "text/plain": [
              "                                        Name     Mileage  Rating Review Count  \\\n",
              "0    2021 Mercedes-Benz A-Class A 220 4MATIC  29,636 mi.     3.9       1,800    \n",
              "1          2022 Mercedes-Benz AMG SL 63 Base   5,540 mi.     4.7       1,239    \n",
              "2          2022 Mercedes-Benz AMG SL 63 Base   4,890 mi.     4.7       1,239    \n",
              "3    2020 Mercedes-Benz AMG E 53 Base 4MATIC  29,746 mi.     4.8         752    \n",
              "4  2021 Mercedes-Benz AMG GLS 63 Base 4MATIC  32,631 mi.     5.0       1,502    \n",
              "\n",
              "      Price  \n",
              "0   $30,900  \n",
              "1  $139,999  \n",
              "2  $132,999  \n",
              "3   $58,587  \n",
              "4   $95,990  "
            ],
            "text/html": [
              "\n",
              "  <div id=\"df-4dda7d8b-4fc9-4fdc-a0bd-0657233ca66c\" class=\"colab-df-container\">\n",
              "    <div>\n",
              "<style scoped>\n",
              "    .dataframe tbody tr th:only-of-type {\n",
              "        vertical-align: middle;\n",
              "    }\n",
              "\n",
              "    .dataframe tbody tr th {\n",
              "        vertical-align: top;\n",
              "    }\n",
              "\n",
              "    .dataframe thead th {\n",
              "        text-align: right;\n",
              "    }\n",
              "</style>\n",
              "<table border=\"1\" class=\"dataframe\">\n",
              "  <thead>\n",
              "    <tr style=\"text-align: right;\">\n",
              "      <th></th>\n",
              "      <th>Name</th>\n",
              "      <th>Mileage</th>\n",
              "      <th>Rating</th>\n",
              "      <th>Review Count</th>\n",
              "      <th>Price</th>\n",
              "    </tr>\n",
              "  </thead>\n",
              "  <tbody>\n",
              "    <tr>\n",
              "      <th>0</th>\n",
              "      <td>2021 Mercedes-Benz A-Class A 220 4MATIC</td>\n",
              "      <td>29,636 mi.</td>\n",
              "      <td>3.9</td>\n",
              "      <td>1,800</td>\n",
              "      <td>$30,900</td>\n",
              "    </tr>\n",
              "    <tr>\n",
              "      <th>1</th>\n",
              "      <td>2022 Mercedes-Benz AMG SL 63 Base</td>\n",
              "      <td>5,540 mi.</td>\n",
              "      <td>4.7</td>\n",
              "      <td>1,239</td>\n",
              "      <td>$139,999</td>\n",
              "    </tr>\n",
              "    <tr>\n",
              "      <th>2</th>\n",
              "      <td>2022 Mercedes-Benz AMG SL 63 Base</td>\n",
              "      <td>4,890 mi.</td>\n",
              "      <td>4.7</td>\n",
              "      <td>1,239</td>\n",
              "      <td>$132,999</td>\n",
              "    </tr>\n",
              "    <tr>\n",
              "      <th>3</th>\n",
              "      <td>2020 Mercedes-Benz AMG E 53 Base 4MATIC</td>\n",
              "      <td>29,746 mi.</td>\n",
              "      <td>4.8</td>\n",
              "      <td>752</td>\n",
              "      <td>$58,587</td>\n",
              "    </tr>\n",
              "    <tr>\n",
              "      <th>4</th>\n",
              "      <td>2021 Mercedes-Benz AMG GLS 63 Base 4MATIC</td>\n",
              "      <td>32,631 mi.</td>\n",
              "      <td>5.0</td>\n",
              "      <td>1,502</td>\n",
              "      <td>$95,990</td>\n",
              "    </tr>\n",
              "  </tbody>\n",
              "</table>\n",
              "</div>\n",
              "    <div class=\"colab-df-buttons\">\n",
              "\n",
              "  <div class=\"colab-df-container\">\n",
              "    <button class=\"colab-df-convert\" onclick=\"convertToInteractive('df-4dda7d8b-4fc9-4fdc-a0bd-0657233ca66c')\"\n",
              "            title=\"Convert this dataframe to an interactive table.\"\n",
              "            style=\"display:none;\">\n",
              "\n",
              "  <svg xmlns=\"http://www.w3.org/2000/svg\" height=\"24px\" viewBox=\"0 -960 960 960\">\n",
              "    <path d=\"M120-120v-720h720v720H120Zm60-500h600v-160H180v160Zm220 220h160v-160H400v160Zm0 220h160v-160H400v160ZM180-400h160v-160H180v160Zm440 0h160v-160H620v160ZM180-180h160v-160H180v160Zm440 0h160v-160H620v160Z\"/>\n",
              "  </svg>\n",
              "    </button>\n",
              "\n",
              "  <style>\n",
              "    .colab-df-container {\n",
              "      display:flex;\n",
              "      gap: 12px;\n",
              "    }\n",
              "\n",
              "    .colab-df-convert {\n",
              "      background-color: #E8F0FE;\n",
              "      border: none;\n",
              "      border-radius: 50%;\n",
              "      cursor: pointer;\n",
              "      display: none;\n",
              "      fill: #1967D2;\n",
              "      height: 32px;\n",
              "      padding: 0 0 0 0;\n",
              "      width: 32px;\n",
              "    }\n",
              "\n",
              "    .colab-df-convert:hover {\n",
              "      background-color: #E2EBFA;\n",
              "      box-shadow: 0px 1px 2px rgba(60, 64, 67, 0.3), 0px 1px 3px 1px rgba(60, 64, 67, 0.15);\n",
              "      fill: #174EA6;\n",
              "    }\n",
              "\n",
              "    .colab-df-buttons div {\n",
              "      margin-bottom: 4px;\n",
              "    }\n",
              "\n",
              "    [theme=dark] .colab-df-convert {\n",
              "      background-color: #3B4455;\n",
              "      fill: #D2E3FC;\n",
              "    }\n",
              "\n",
              "    [theme=dark] .colab-df-convert:hover {\n",
              "      background-color: #434B5C;\n",
              "      box-shadow: 0px 1px 3px 1px rgba(0, 0, 0, 0.15);\n",
              "      filter: drop-shadow(0px 1px 2px rgba(0, 0, 0, 0.3));\n",
              "      fill: #FFFFFF;\n",
              "    }\n",
              "  </style>\n",
              "\n",
              "    <script>\n",
              "      const buttonEl =\n",
              "        document.querySelector('#df-4dda7d8b-4fc9-4fdc-a0bd-0657233ca66c button.colab-df-convert');\n",
              "      buttonEl.style.display =\n",
              "        google.colab.kernel.accessAllowed ? 'block' : 'none';\n",
              "\n",
              "      async function convertToInteractive(key) {\n",
              "        const element = document.querySelector('#df-4dda7d8b-4fc9-4fdc-a0bd-0657233ca66c');\n",
              "        const dataTable =\n",
              "          await google.colab.kernel.invokeFunction('convertToInteractive',\n",
              "                                                    [key], {});\n",
              "        if (!dataTable) return;\n",
              "\n",
              "        const docLinkHtml = 'Like what you see? Visit the ' +\n",
              "          '<a target=\"_blank\" href=https://colab.research.google.com/notebooks/data_table.ipynb>data table notebook</a>'\n",
              "          + ' to learn more about interactive tables.';\n",
              "        element.innerHTML = '';\n",
              "        dataTable['output_type'] = 'display_data';\n",
              "        await google.colab.output.renderOutput(dataTable, element);\n",
              "        const docLink = document.createElement('div');\n",
              "        docLink.innerHTML = docLinkHtml;\n",
              "        element.appendChild(docLink);\n",
              "      }\n",
              "    </script>\n",
              "  </div>\n",
              "\n",
              "\n",
              "<div id=\"df-7058265c-e898-4455-90ea-95eac4f6f5c9\">\n",
              "  <button class=\"colab-df-quickchart\" onclick=\"quickchart('df-7058265c-e898-4455-90ea-95eac4f6f5c9')\"\n",
              "            title=\"Suggest charts\"\n",
              "            style=\"display:none;\">\n",
              "\n",
              "<svg xmlns=\"http://www.w3.org/2000/svg\" height=\"24px\"viewBox=\"0 0 24 24\"\n",
              "     width=\"24px\">\n",
              "    <g>\n",
              "        <path d=\"M19 3H5c-1.1 0-2 .9-2 2v14c0 1.1.9 2 2 2h14c1.1 0 2-.9 2-2V5c0-1.1-.9-2-2-2zM9 17H7v-7h2v7zm4 0h-2V7h2v10zm4 0h-2v-4h2v4z\"/>\n",
              "    </g>\n",
              "</svg>\n",
              "  </button>\n",
              "\n",
              "<style>\n",
              "  .colab-df-quickchart {\n",
              "      --bg-color: #E8F0FE;\n",
              "      --fill-color: #1967D2;\n",
              "      --hover-bg-color: #E2EBFA;\n",
              "      --hover-fill-color: #174EA6;\n",
              "      --disabled-fill-color: #AAA;\n",
              "      --disabled-bg-color: #DDD;\n",
              "  }\n",
              "\n",
              "  [theme=dark] .colab-df-quickchart {\n",
              "      --bg-color: #3B4455;\n",
              "      --fill-color: #D2E3FC;\n",
              "      --hover-bg-color: #434B5C;\n",
              "      --hover-fill-color: #FFFFFF;\n",
              "      --disabled-bg-color: #3B4455;\n",
              "      --disabled-fill-color: #666;\n",
              "  }\n",
              "\n",
              "  .colab-df-quickchart {\n",
              "    background-color: var(--bg-color);\n",
              "    border: none;\n",
              "    border-radius: 50%;\n",
              "    cursor: pointer;\n",
              "    display: none;\n",
              "    fill: var(--fill-color);\n",
              "    height: 32px;\n",
              "    padding: 0;\n",
              "    width: 32px;\n",
              "  }\n",
              "\n",
              "  .colab-df-quickchart:hover {\n",
              "    background-color: var(--hover-bg-color);\n",
              "    box-shadow: 0 1px 2px rgba(60, 64, 67, 0.3), 0 1px 3px 1px rgba(60, 64, 67, 0.15);\n",
              "    fill: var(--button-hover-fill-color);\n",
              "  }\n",
              "\n",
              "  .colab-df-quickchart-complete:disabled,\n",
              "  .colab-df-quickchart-complete:disabled:hover {\n",
              "    background-color: var(--disabled-bg-color);\n",
              "    fill: var(--disabled-fill-color);\n",
              "    box-shadow: none;\n",
              "  }\n",
              "\n",
              "  .colab-df-spinner {\n",
              "    border: 2px solid var(--fill-color);\n",
              "    border-color: transparent;\n",
              "    border-bottom-color: var(--fill-color);\n",
              "    animation:\n",
              "      spin 1s steps(1) infinite;\n",
              "  }\n",
              "\n",
              "  @keyframes spin {\n",
              "    0% {\n",
              "      border-color: transparent;\n",
              "      border-bottom-color: var(--fill-color);\n",
              "      border-left-color: var(--fill-color);\n",
              "    }\n",
              "    20% {\n",
              "      border-color: transparent;\n",
              "      border-left-color: var(--fill-color);\n",
              "      border-top-color: var(--fill-color);\n",
              "    }\n",
              "    30% {\n",
              "      border-color: transparent;\n",
              "      border-left-color: var(--fill-color);\n",
              "      border-top-color: var(--fill-color);\n",
              "      border-right-color: var(--fill-color);\n",
              "    }\n",
              "    40% {\n",
              "      border-color: transparent;\n",
              "      border-right-color: var(--fill-color);\n",
              "      border-top-color: var(--fill-color);\n",
              "    }\n",
              "    60% {\n",
              "      border-color: transparent;\n",
              "      border-right-color: var(--fill-color);\n",
              "    }\n",
              "    80% {\n",
              "      border-color: transparent;\n",
              "      border-right-color: var(--fill-color);\n",
              "      border-bottom-color: var(--fill-color);\n",
              "    }\n",
              "    90% {\n",
              "      border-color: transparent;\n",
              "      border-bottom-color: var(--fill-color);\n",
              "    }\n",
              "  }\n",
              "</style>\n",
              "\n",
              "  <script>\n",
              "    async function quickchart(key) {\n",
              "      const quickchartButtonEl =\n",
              "        document.querySelector('#' + key + ' button');\n",
              "      quickchartButtonEl.disabled = true;  // To prevent multiple clicks.\n",
              "      quickchartButtonEl.classList.add('colab-df-spinner');\n",
              "      try {\n",
              "        const charts = await google.colab.kernel.invokeFunction(\n",
              "            'suggestCharts', [key], {});\n",
              "      } catch (error) {\n",
              "        console.error('Error during call to suggestCharts:', error);\n",
              "      }\n",
              "      quickchartButtonEl.classList.remove('colab-df-spinner');\n",
              "      quickchartButtonEl.classList.add('colab-df-quickchart-complete');\n",
              "    }\n",
              "    (() => {\n",
              "      let quickchartButtonEl =\n",
              "        document.querySelector('#df-7058265c-e898-4455-90ea-95eac4f6f5c9 button');\n",
              "      quickchartButtonEl.style.display =\n",
              "        google.colab.kernel.accessAllowed ? 'block' : 'none';\n",
              "    })();\n",
              "  </script>\n",
              "</div>\n",
              "\n",
              "    </div>\n",
              "  </div>\n"
            ],
            "application/vnd.google.colaboratory.intrinsic+json": {
              "type": "dataframe",
              "variable_name": "df",
              "summary": "{\n  \"name\": \"df\",\n  \"rows\": 2429,\n  \"fields\": [\n    {\n      \"column\": \"Name\",\n      \"properties\": {\n        \"dtype\": \"category\",\n        \"num_unique_values\": 486,\n        \"samples\": [\n          \"2017 Mercedes-Benz GLA 250 Base\",\n          \"2020 Mercedes-Benz AMG A 35 4MATIC\",\n          \"2023 Mercedes-Benz EQS 450+ \"\n        ],\n        \"semantic_type\": \"\",\n        \"description\": \"\"\n      }\n    },\n    {\n      \"column\": \"Mileage\",\n      \"properties\": {\n        \"dtype\": \"string\",\n        \"num_unique_values\": 2322,\n        \"samples\": [\n          \"36,301 mi.\",\n          \"15,637 mi.\",\n          \"7,338 mi.\"\n        ],\n        \"semantic_type\": \"\",\n        \"description\": \"\"\n      }\n    },\n    {\n      \"column\": \"Rating\",\n      \"properties\": {\n        \"dtype\": \"number\",\n        \"std\": 0.38650616845619384,\n        \"min\": 2.1,\n        \"max\": 5.0,\n        \"num_unique_values\": 25,\n        \"samples\": [\n          4.3,\n          4.1,\n          3.9\n        ],\n        \"semantic_type\": \"\",\n        \"description\": \"\"\n      }\n    },\n    {\n      \"column\": \"Review Count\",\n      \"properties\": {\n        \"dtype\": \"category\",\n        \"num_unique_values\": 261,\n        \"samples\": [\n          \"2,931 \",\n          \"827 \",\n          \"416 \"\n        ],\n        \"semantic_type\": \"\",\n        \"description\": \"\"\n      }\n    },\n    {\n      \"column\": \"Price\",\n      \"properties\": {\n        \"dtype\": \"string\",\n        \"num_unique_values\": 1941,\n        \"samples\": [\n          \"$90,972\",\n          \"$24,888\",\n          \"$95,981\"\n        ],\n        \"semantic_type\": \"\",\n        \"description\": \"\"\n      }\n    }\n  ]\n}"
            }
          },
          "metadata": {},
          "execution_count": 6
        }
      ]
    },
    {
      "cell_type": "markdown",
      "source": [
        "## Data Cleaning"
      ],
      "metadata": {
        "id": "hZmdZBWGYyEo"
      }
    },
    {
      "cell_type": "markdown",
      "source": [
        "### Drop Column Name"
      ],
      "metadata": {
        "id": "xS0z-tWCZ_NL"
      }
    },
    {
      "cell_type": "code",
      "source": [
        "# Drop the 'Name' column\n",
        "df = df.drop(columns=['Name'])"
      ],
      "metadata": {
        "id": "d36Z4zJrY2qI"
      },
      "execution_count": 7,
      "outputs": []
    },
    {
      "cell_type": "markdown",
      "source": [
        "Kolum Name di drop karena tidak diperluhkan pada analisis kali ini."
      ],
      "metadata": {
        "id": "7a2HA_l8ZDkb"
      }
    },
    {
      "cell_type": "code",
      "source": [
        "df.columns"
      ],
      "metadata": {
        "colab": {
          "base_uri": "https://localhost:8080/"
        },
        "id": "-WDUNc57Y7p3",
        "outputId": "e5c00ea6-71af-45df-b75a-273c1fd0d1c6"
      },
      "execution_count": 8,
      "outputs": [
        {
          "output_type": "execute_result",
          "data": {
            "text/plain": [
              "Index(['Mileage', 'Rating', 'Review Count', 'Price'], dtype='object')"
            ]
          },
          "metadata": {},
          "execution_count": 8
        }
      ]
    },
    {
      "cell_type": "markdown",
      "source": [
        "### Ensure the columns are numeric"
      ],
      "metadata": {
        "id": "j6A7fF7iX708"
      }
    },
    {
      "cell_type": "code",
      "source": [
        "# Define a function to clean and convert to float\n",
        "def clean_and_convert(value):\n",
        "    if isinstance(value, str):\n",
        "        # Remove non-numeric characters (including comma)\n",
        "        cleaned_value = re.sub(r'[^\\d.]+', '', value)\n",
        "        # Convert to float\n",
        "        try:\n",
        "            return float(cleaned_value)\n",
        "        except ValueError:\n",
        "            return float('NaN')  # Handle cases where cleaning fails\n",
        "    else:\n",
        "        return value  # Return non-string values as-is\n",
        "\n",
        "# Ensure the columns are numeric and convert to float\n",
        "columns_to_check = ['Mileage', 'Rating', 'Review Count', 'Price']\n",
        "for column in columns_to_check:\n",
        "    df[column] = (df[column]).apply(clean_and_convert)"
      ],
      "metadata": {
        "id": "wfPQnZZhX5ua"
      },
      "execution_count": 9,
      "outputs": []
    },
    {
      "cell_type": "markdown",
      "source": [
        "### Cek Missing Value"
      ],
      "metadata": {
        "id": "He2udS2EZ2J-"
      }
    },
    {
      "cell_type": "code",
      "source": [
        "# Check for missing values\n",
        "print(\"\\nMissing values in each column:\")\n",
        "print(df.isnull().sum())"
      ],
      "metadata": {
        "colab": {
          "base_uri": "https://localhost:8080/"
        },
        "id": "oAOTCV1SZzqt",
        "outputId": "5074d772-59af-4c80-ae52-d1fd91820e00"
      },
      "execution_count": 10,
      "outputs": [
        {
          "output_type": "stream",
          "name": "stdout",
          "text": [
            "\n",
            "Missing values in each column:\n",
            "Mileage           0\n",
            "Rating          294\n",
            "Review Count     31\n",
            "Price             1\n",
            "dtype: int64\n"
          ]
        }
      ]
    },
    {
      "cell_type": "markdown",
      "source": [
        "### Mengisi Data yang Hilang"
      ],
      "metadata": {
        "id": "na8-uVVeYkWu"
      }
    },
    {
      "cell_type": "code",
      "source": [
        "# Mengisi nilai yang hilang dengan metode yang sesuai\n",
        "df['Rating'].fillna(df['Rating'].mean(), inplace=True)  # Mengisi dengan nilai rata-rata\n",
        "df['Review Count'].fillna(df['Review Count'].median(), inplace=True)  # Mengisi dengan nilai median"
      ],
      "metadata": {
        "id": "7p9MkgV1ZKta"
      },
      "execution_count": 11,
      "outputs": []
    },
    {
      "cell_type": "markdown",
      "source": [
        "### Cek Data Duplikat"
      ],
      "metadata": {
        "id": "ZNwJYChpZSDq"
      }
    },
    {
      "cell_type": "code",
      "source": [
        "# Check for duplicate rows\n",
        "print(\"\\nNumber of duplicate rows:\")\n",
        "print(df.duplicated().sum())"
      ],
      "metadata": {
        "colab": {
          "base_uri": "https://localhost:8080/"
        },
        "id": "uMVnpVYPZXFY",
        "outputId": "072d72bd-7fc0-44d1-cb55-864822a11aa6"
      },
      "execution_count": 12,
      "outputs": [
        {
          "output_type": "stream",
          "name": "stdout",
          "text": [
            "\n",
            "Number of duplicate rows:\n",
            "32\n"
          ]
        }
      ]
    },
    {
      "cell_type": "code",
      "source": [
        "# Menampilkan jumlah baris sebelum menghapus duplikat\n",
        "print(\"Jumlah baris sebelum menghapus duplikat:\", len(df))"
      ],
      "metadata": {
        "colab": {
          "base_uri": "https://localhost:8080/"
        },
        "id": "oyWPTKyHZada",
        "outputId": "7ecb6590-9f6e-46e7-9c14-ef5188e233dc"
      },
      "execution_count": 13,
      "outputs": [
        {
          "output_type": "stream",
          "name": "stdout",
          "text": [
            "Jumlah baris sebelum menghapus duplikat: 2429\n"
          ]
        }
      ]
    },
    {
      "cell_type": "markdown",
      "source": [
        "### Menghapus baris duplikat"
      ],
      "metadata": {
        "id": "gEMLfVKBZmnW"
      }
    },
    {
      "cell_type": "code",
      "source": [
        "# Menghapus baris duplikat\n",
        "df = df.drop_duplicates()"
      ],
      "metadata": {
        "id": "_Dx2brWEZgdn"
      },
      "execution_count": 14,
      "outputs": []
    },
    {
      "cell_type": "code",
      "source": [
        "# Menampilkan jumlah baris setelah menghapus duplikat\n",
        "print(\"Jumlah baris setelah menghapus duplikat:\", len(df))"
      ],
      "metadata": {
        "colab": {
          "base_uri": "https://localhost:8080/"
        },
        "id": "L1rJy4X5ZraP",
        "outputId": "092e4d4a-2221-4511-8535-e85cf092d030"
      },
      "execution_count": 15,
      "outputs": [
        {
          "output_type": "stream",
          "name": "stdout",
          "text": [
            "Jumlah baris setelah menghapus duplikat: 2397\n"
          ]
        }
      ]
    },
    {
      "cell_type": "markdown",
      "source": [
        "### Cek Summary statistics"
      ],
      "metadata": {
        "id": "qkrj7ZAveNuL"
      }
    },
    {
      "cell_type": "code",
      "source": [
        "# Summary statistics\n",
        "print(\"\\nSummary statistics:\")\n",
        "print(df.describe())"
      ],
      "metadata": {
        "colab": {
          "base_uri": "https://localhost:8080/"
        },
        "id": "8W3qv8CWeJXn",
        "outputId": "c3b59aec-a01a-4c31-8d7c-4e52b70f11f8"
      },
      "execution_count": 16,
      "outputs": [
        {
          "output_type": "stream",
          "name": "stdout",
          "text": [
            "\n",
            "Summary statistics:\n",
            "             Mileage       Rating  Review Count          Price\n",
            "count    2397.000000  2397.000000   2397.000000    2396.000000\n",
            "mean    20160.459324     4.534062   1255.592824   55778.633973\n",
            "std     17827.435596     0.360990   1256.744112   31098.133226\n",
            "min       100.000000     2.100000      0.000000    8999.000000\n",
            "25%      5879.000000     4.400000    344.000000   37999.750000\n",
            "50%     14150.000000     4.600000    919.000000   46900.000000\n",
            "75%     31270.000000     4.800000   1800.000000   61998.250000\n",
            "max    194043.000000     5.000000   7140.000000  229918.000000\n"
          ]
        }
      ]
    },
    {
      "cell_type": "markdown",
      "source": [
        "### Univariate Analysis"
      ],
      "metadata": {
        "id": "1g3gquT9VzEN"
      }
    },
    {
      "cell_type": "code",
      "source": [
        "import matplotlib.pyplot as plt\n",
        "import seaborn as sns\n",
        "\n",
        "print(\"\\nUnivariate Analysis:\")\n",
        "for column in columns_to_check:\n",
        "    print(f\"\\nStatistics for {column}:\")\n",
        "    print(df[column].describe())\n",
        "\n",
        "    fig, axes = plt.subplots(nrows=1, ncols=2, figsize=(15, 5))\n",
        "\n",
        "    # Histogram\n",
        "    df[column].plot(kind='hist', bins=20, edgecolor='black', ax=axes[0])\n",
        "    axes[0].set_title(f'Histogram of {column}')\n",
        "    axes[0].set_xlabel(column)\n",
        "    axes[0].set_ylabel('Frequency')\n",
        "    axes[0].tick_params(axis='x', rotation=90)  # Rotate x-axis labels\n",
        "\n",
        "    # Boxplot\n",
        "    sns.boxplot(x=df[column], ax=axes[1])\n",
        "    axes[1].set_title(f'Boxplot of {column}')\n",
        "    axes[1].tick_params(axis='x', rotation=90)  # Rotate x-axis labels\n",
        "\n",
        "    plt.tight_layout()\n",
        "    plt.show()\n"
      ],
      "metadata": {
        "colab": {
          "base_uri": "https://localhost:8080/",
          "height": 1000
        },
        "id": "K4Zfqc11VWeV",
        "outputId": "fa809c54-a514-4649-fd6a-34b09723cd9d"
      },
      "execution_count": 17,
      "outputs": [
        {
          "output_type": "stream",
          "name": "stdout",
          "text": [
            "\n",
            "Univariate Analysis:\n",
            "\n",
            "Statistics for Mileage:\n",
            "count      2397.000000\n",
            "mean      20160.459324\n",
            "std       17827.435596\n",
            "min         100.000000\n",
            "25%        5879.000000\n",
            "50%       14150.000000\n",
            "75%       31270.000000\n",
            "max      194043.000000\n",
            "Name: Mileage, dtype: float64\n"
          ]
        },
        {
          "output_type": "display_data",
          "data": {
            "text/plain": [
              "<Figure size 1500x500 with 2 Axes>"
            ],
            "image/png": "[encoded data removed]"
          },
          "metadata": {}
        },
        {
          "output_type": "stream",
          "name": "stdout",
          "text": [
            "\n",
            "Statistics for Rating:\n",
            "count    2397.000000\n",
            "mean        4.534062\n",
            "std         0.360990\n",
            "min         2.100000\n",
            "25%         4.400000\n",
            "50%         4.600000\n",
            "75%         4.800000\n",
            "max         5.000000\n",
            "Name: Rating, dtype: float64\n"
          ]
        },
        {
          "output_type": "display_data",
          "data": {
            "text/plain": [
              "<Figure size 1500x500 with 2 Axes>"
            ],
            "image/png": "[encoded data removed]"
          },
          "metadata": {}
        },
        {
          "output_type": "stream",
          "name": "stdout",
          "text": [
            "\n",
            "Statistics for Review Count:\n",
            "count    2397.000000\n",
            "mean     1255.592824\n",
            "std      1256.744112\n",
            "min         0.000000\n",
            "25%       344.000000\n",
            "50%       919.000000\n",
            "75%      1800.000000\n",
            "max      7140.000000\n",
            "Name: Review Count, dtype: float64\n"
          ]
        },
        {
          "output_type": "display_data",
          "data": {
            "text/plain": [
              "<Figure size 1500x500 with 2 Axes>"
            ],
            "image/png": "[encoded data removed]"
          },
          "metadata": {}
        },
        {
          "output_type": "stream",
          "name": "stdout",
          "text": [
            "\n",
            "Statistics for Price:\n",
            "count      2396.000000\n",
            "mean      55778.633973\n",
            "std       31098.133226\n",
            "min        8999.000000\n",
            "25%       37999.750000\n",
            "50%       46900.000000\n",
            "75%       61998.250000\n",
            "max      229918.000000\n",
            "Name: Price, dtype: float64\n"
          ]
        },
        {
          "output_type": "display_data",
          "data": {
            "text/plain": [
              "<Figure size 1500x500 with 2 Axes>"
            ],
            "image/png": "[encoded data removed]"
          },
          "metadata": {}
        }
      ]
    },
    {
      "cell_type": "markdown",
      "source": [
        "Di dapati adanya outlier dan data tidak terdistribusi secara normal terdapat pada Mileage, Rating, Review Count, dan Price."
      ],
      "metadata": {
        "id": "RX0WfH4Ys3TQ"
      }
    },
    {
      "cell_type": "markdown",
      "source": [
        "### Correlation matrix"
      ],
      "metadata": {
        "id": "2sV4Q0XyV4hq"
      }
    },
    {
      "cell_type": "code",
      "source": [
        "# Correlation matrix\n",
        "print(\"\\nCorrelation matrix:\")\n",
        "corr_matrix = df.corr()\n",
        "print(corr_matrix)"
      ],
      "metadata": {
        "colab": {
          "base_uri": "https://localhost:8080/"
        },
        "id": "GPNPunrxVh13",
        "outputId": "a5ef8916-1373-471b-e337-f90a9115a09d"
      },
      "execution_count": 18,
      "outputs": [
        {
          "output_type": "stream",
          "name": "stdout",
          "text": [
            "\n",
            "Correlation matrix:\n",
            "               Mileage    Rating  Review Count     Price\n",
            "Mileage       1.000000  0.024698     -0.007269 -0.275375\n",
            "Rating        0.024698  1.000000      0.249866 -0.005212\n",
            "Review Count -0.007269  0.249866      1.000000  0.041568\n",
            "Price        -0.275375 -0.005212      0.041568  1.000000\n"
          ]
        }
      ]
    },
    {
      "cell_type": "markdown",
      "source": [
        "### Heatmap of correlation matrix"
      ],
      "metadata": {
        "id": "WOQlvQwLV65U"
      }
    },
    {
      "cell_type": "code",
      "source": [
        "# Compute Spearman correlation matrix\n",
        "corr_matrix_spearman = df.corr(method='spearman')\n",
        "\n",
        "# Plot heatmap\n",
        "plt.figure(figsize=(10, 6))\n",
        "sns.heatmap(corr_matrix_spearman, annot=True, cmap='coolwarm', fmt='.2f')\n",
        "plt.title('Spearman Correlation Matrix')\n",
        "plt.show()"
      ],
      "metadata": {
        "colab": {
          "base_uri": "https://localhost:8080/",
          "height": 545
        },
        "id": "WRmiAxNtVi24",
        "outputId": "c8778ee2-d38f-4f7c-e30d-b0a895e4ec47"
      },
      "execution_count": 19,
      "outputs": [
        {
          "output_type": "display_data",
          "data": {
            "text/plain": [
              "<Figure size 1000x600 with 2 Axes>"
            ],
            "image/png": "[encoded data removed]"
          },
          "metadata": {}
        }
      ]
    },
    {
      "cell_type": "markdown",
      "source": [
        "Terdapat nilai -0.43 antara variabel price dan mileage, ini menunjukkan:\n",
        "\n",
        "1. Korelasi Negatif: Hubungan antara price dan mileage bersifat negatif, yang berarti ketika mileage meningkat, price cenderung menurun.\n",
        "\n",
        "2. Kekuatan Korelasi: Nilai -0.43 menunjukkan korelasi yang sedang, tidak terlalu lemah tetapi juga tidak sangat kuat. Ada indikasi bahwa mileage memiliki dampak yang berarti pada price, tetapi korelasi ini tidak mendominasi.\n",
        "\n",
        "Terdapat nilai 0.29 antara variabel review dan rating, ini menunjukkan:\n",
        "\n",
        "1. Korelasi Positif: Hubungan antara review dan rating bersifat positif, yang berarti ketika review meningkat, rating juga cenderung meningkat, meskipun dengan korelasi yang lemah.\n",
        "\n",
        "2. Kekuatan Korelasi: Nilai 0.29 menunjukkan korelasi yang lemah hingga sedang. Artinya, ada sedikit hubungan linear antara review dan rating, tetapi tidak terlalu kuat."
      ],
      "metadata": {
        "id": "e6P2yYm_t2Tr"
      }
    },
    {
      "cell_type": "code",
      "source": [
        "# Pilih kolom yang relevan\n",
        "columns_to_check = ['Mileage', 'Rating', 'Review Count', 'Price']\n",
        "df = df[columns_to_check]\n",
        "\n",
        "# Menangani missing values (jika ada)\n",
        "df = df.dropna()"
      ],
      "metadata": {
        "id": "5zbSNHeHrPh2"
      },
      "execution_count": 20,
      "outputs": []
    },
    {
      "cell_type": "markdown",
      "source": [
        "### Melakukan Regresi Linear Berganda"
      ],
      "metadata": {
        "id": "gpLIPq19rcsG"
      }
    },
    {
      "cell_type": "code",
      "source": [
        "from sklearn.linear_model import HuberRegressor\n",
        "from sklearn.model_selection import train_test_split\n",
        "from sklearn.preprocessing import StandardScaler\n",
        "from sklearn.pipeline import make_pipeline\n",
        "\n",
        "# Memisahkan fitur dan target\n",
        "X = df[['Mileage', 'Rating', 'Review Count']]\n",
        "y = df['Price']\n",
        "\n",
        "# Membagi data menjadi train dan test set\n",
        "X_train, X_test, y_train, y_test = train_test_split(X, y, test_size=0.2, random_state=42)\n",
        "\n",
        "# Membuat pipeline untuk scaling dan regresi\n",
        "pipeline = make_pipeline(StandardScaler(), HuberRegressor())\n",
        "\n",
        "# Melatih model\n",
        "pipeline.fit(X_train, y_train)\n",
        "\n",
        "# Evaluasi model\n",
        "y_pred = pipeline.predict(X_test)\n",
        "\n",
        "# Menampilkan koefisien\n",
        "print(\"Coefficients:\", pipeline.named_steps['huberregressor'].coef_)\n",
        "print(\"Intercept:\", pipeline.named_steps['huberregressor'].intercept_)\n",
        "\n",
        "# Menghitung R-squared\n",
        "r_squared = pipeline.score(X_test, y_test)\n",
        "print(\"R-squared:\", r_squared)\n"
      ],
      "metadata": {
        "colab": {
          "base_uri": "https://localhost:8080/"
        },
        "id": "GnuZ0SB9rYuL",
        "outputId": "80b11034-3ab7-447e-a783-07c34b7fa2db"
      },
      "execution_count": 21,
      "outputs": [
        {
          "output_type": "stream",
          "name": "stdout",
          "text": [
            "Coefficients: [-6587.83820781  -418.42208714   751.00062626]\n",
            "Intercept: 48023.19859429252\n",
            "R-squared: 0.040083486791120504\n"
          ]
        }
      ]
    },
    {
      "cell_type": "markdown",
      "source": [
        "### Uji Signifikansi (P-Values)"
      ],
      "metadata": {
        "id": "IjJQW9VeMUqy"
      }
    },
    {
      "cell_type": "code",
      "source": [
        "# Menambahkan konstanta untuk intercept\n",
        "X = sm.add_constant(X)\n",
        "\n",
        "# Melakukan regresi linear menggunakan statsmodels\n",
        "model = sm.OLS(y, X).fit()\n",
        "\n",
        "# Menampilkan ringkasan hasil regresi\n",
        "print(model.summary())\n"
      ],
      "metadata": {
        "id": "mhmbDRwyNXyv",
        "colab": {
          "base_uri": "https://localhost:8080/"
        },
        "outputId": "74cf7f69-233a-4b30-bc22-2e82dd0ff7be"
      },
      "execution_count": 22,
      "outputs": [
        {
          "output_type": "stream",
          "name": "stdout",
          "text": [
            "                            OLS Regression Results                            \n",
            "==============================================================================\n",
            "Dep. Variable:                  Price   R-squared:                       0.077\n",
            "Model:                            OLS   Adj. R-squared:                  0.076\n",
            "Method:                 Least Squares   F-statistic:                     66.95\n",
            "Date:                Tue, 17 Sep 2024   Prob (F-statistic):           1.44e-41\n",
            "Time:                        05:15:55   Log-Likelihood:                -28089.\n",
            "No. Observations:                2396   AIC:                         5.619e+04\n",
            "Df Residuals:                    2392   BIC:                         5.621e+04\n",
            "Df Model:                           3                                         \n",
            "Covariance Type:            nonrobust                                         \n",
            "================================================================================\n",
            "                   coef    std err          t      P>|t|      [0.025      0.975]\n",
            "--------------------------------------------------------------------------------\n",
            "const         6.761e+04   7825.692      8.639      0.000    5.23e+04     8.3e+04\n",
            "Mileage         -0.4794      0.034    -13.989      0.000      -0.547      -0.412\n",
            "Rating        -762.7821   1747.522     -0.436      0.663   -4189.596    2664.032\n",
            "Review Count     1.0323      0.502      2.057      0.040       0.048       2.016\n",
            "==============================================================================\n",
            "Omnibus:                     1384.481   Durbin-Watson:                   1.955\n",
            "Prob(Omnibus):                  0.000   Jarque-Bera (JB):            10700.467\n",
            "Skew:                           2.709   Prob(JB):                         0.00\n",
            "Kurtosis:                      11.823   Cond. No.                     3.54e+05\n",
            "==============================================================================\n",
            "\n",
            "Notes:\n",
            "[1] Standard Errors assume that the covariance matrix of the errors is correctly specified.\n",
            "[2] The condition number is large, 3.54e+05. This might indicate that there are\n",
            "strong multicollinearity or other numerical problems.\n"
          ]
        }
      ]
    },
    {
      "cell_type": "markdown",
      "source": [
        "Kesimpulan:\n",
        "1. Mileage adalah variabel yang paling signifikan mempengaruhi Price, dengan korelasi negatif yang signifikan.\n",
        "2. Review Count juga signifikan, tetapi pengaruhnya kecil.\n",
        "3. Rating tidak signifikan, artinya tidak memberikan pengaruh yang berarti terhadap Price.\n",
        "4. Model ini secara keseluruhan memiliki daya jelaskan yang rendah (R-squared = 0.077), yang berarti banyak variasi dalam Price yang tidak dapat dijelaskan oleh Mileage, Rating, dan Review Count.\n",
        "5. Ada kemungkinan adanya multikolinearitas, dan residuals tidak normal, yang berarti Anda mungkin perlu memperbaiki model atau mempertimbangkan metode regresi lain.\n",
        "Untuk memperbaiki model, Anda mungkin ingin:\n",
        "\n",
        "* Mencoba menghapus variabel yang tidak signifikan (Rating).\n",
        "* Mencoba model regresi yang lebih kompleks atau melakukan transformasi data untuk menangani masalah non-normalitas dan multikolinearitas.\n",
        "* Mengeksplorasi variabel independen lain yang mungkin lebih relevan."
      ],
      "metadata": {
        "id": "zNQZD35QtZxh"
      }
    },
    {
      "cell_type": "markdown",
      "source": [
        "###  Menghapus Rating dari Model pada Model ini"
      ],
      "metadata": {
        "id": "ptgeiiGLurrr"
      }
    },
    {
      "cell_type": "code",
      "source": [
        "import statsmodels.api as sm\n",
        "\n",
        "# Menggunakan hanya 'Mileage' dan 'Review Count' sebagai variabel independen\n",
        "X = df[['Mileage', 'Review Count']]\n",
        "y = df['Price']\n",
        "\n",
        "# Menambahkan konstanta untuk intercept\n",
        "X = sm.add_constant(X)\n",
        "\n",
        "# Melakukan regresi linear menggunakan statsmodels\n",
        "model = sm.OLS(y, X).fit()\n",
        "\n",
        "# Menampilkan ringkasan hasil regresi\n",
        "print(model.summary())\n"
      ],
      "metadata": {
        "colab": {
          "base_uri": "https://localhost:8080/"
        },
        "id": "iqti5E9FrjT2",
        "outputId": "26b14329-33b3-47e3-f19d-bb03fbe8521a"
      },
      "execution_count": 23,
      "outputs": [
        {
          "output_type": "stream",
          "name": "stdout",
          "text": [
            "                            OLS Regression Results                            \n",
            "==============================================================================\n",
            "Dep. Variable:                  Price   R-squared:                       0.077\n",
            "Model:                            OLS   Adj. R-squared:                  0.077\n",
            "Method:                 Least Squares   F-statistic:                     100.4\n",
            "Date:                Tue, 17 Sep 2024   Prob (F-statistic):           1.39e-42\n",
            "Time:                        05:15:55   Log-Likelihood:                -28089.\n",
            "No. Observations:                2396   AIC:                         5.618e+04\n",
            "Df Residuals:                    2393   BIC:                         5.620e+04\n",
            "Df Model:                           2                                         \n",
            "Covariance Type:            nonrobust                                         \n",
            "================================================================================\n",
            "                   coef    std err          t      P>|t|      [0.025      0.975]\n",
            "--------------------------------------------------------------------------------\n",
            "const         6.423e+04   1108.321     57.949      0.000    6.21e+04    6.64e+04\n",
            "Mileage         -0.4798      0.034    -14.009      0.000      -0.547      -0.413\n",
            "Review Count     0.9775      0.486      2.012      0.044       0.025       1.930\n",
            "==============================================================================\n",
            "Omnibus:                     1384.187   Durbin-Watson:                   1.956\n",
            "Prob(Omnibus):                  0.000   Jarque-Bera (JB):            10689.981\n",
            "Skew:                           2.708   Prob(JB):                         0.00\n",
            "Kurtosis:                      11.817   Cond. No.                     4.89e+04\n",
            "==============================================================================\n",
            "\n",
            "Notes:\n",
            "[1] Standard Errors assume that the covariance matrix of the errors is correctly specified.\n",
            "[2] The condition number is large, 4.89e+04. This might indicate that there are\n",
            "strong multicollinearity or other numerical problems.\n"
          ]
        }
      ]
    },
    {
      "cell_type": "markdown",
      "source": [
        "Kesimpulan:\n",
        "* Menghapus variabel Rating tidak mengubah R-squared, tetapi meningkatkan * F-statistic, menunjukkan bahwa model menjadi sedikit lebih baik tanpa Rating.\n",
        "* Mileage tetap menjadi variabel yang paling signifikan dengan pengaruh negatif terhadap Price.\n",
        "* Review Count juga signifikan, meskipun pengaruhnya lebih kecil dibandingkan dengan Mileage.\n",
        "* Rating memang tidak memberikan kontribusi yang berarti, dan menghapusnya membuat model lebih stabil.\n",
        "* Condition number lebih rendah, mengindikasikan bahwa masalah multikolinearitas berkurang setelah Rating dihapus."
      ],
      "metadata": {
        "id": "q8mQERqLu7hv"
      }
    },
    {
      "cell_type": "code",
      "source": [
        "df1 = df"
      ],
      "metadata": {
        "id": "ikn27ny0_c62"
      },
      "execution_count": 24,
      "outputs": []
    },
    {
      "cell_type": "code",
      "source": [
        "df = data\n",
        "\n",
        "# Memisahkan 'Year' menggunakan angka empat digit pertama di awal string\n",
        "df['Year'] = df['Name'].str.extract(r'(\\b\\d{4}\\b)').astype(int)\n",
        "\n",
        "\n",
        "# Menghapus kolom name jika tidak diperlukan lagi\n",
        "df.drop(columns=['Name'], inplace=True)\n",
        "\n",
        "print(df)\n"
      ],
      "metadata": {
        "id": "6JJHjVvLuuS1",
        "colab": {
          "base_uri": "https://localhost:8080/"
        },
        "outputId": "45e24f7d-9f84-4ba9-8f2f-989723950388"
      },
      "execution_count": 25,
      "outputs": [
        {
          "output_type": "stream",
          "name": "stdout",
          "text": [
            "         Mileage  Rating Review Count     Price  Year\n",
            "0     29,636 mi.     3.9       1,800    $30,900  2021\n",
            "1      5,540 mi.     4.7       1,239   $139,999  2022\n",
            "2      4,890 mi.     4.7       1,239   $132,999  2022\n",
            "3     29,746 mi.     4.8         752    $58,587  2020\n",
            "4     32,631 mi.     5.0       1,502    $95,990  2021\n",
            "...          ...     ...          ...       ...   ...\n",
            "2424  54,422 mi.     NaN         236    $53,490  2021\n",
            "2425  11,395 mi.     4.5       1,334    $89,599  2022\n",
            "2426  30,392 mi.     4.9       2,375    $32,890  2021\n",
            "2427   3,413 mi.     4.8       1,758    $53,983  2023\n",
            "2428   6,336 mi.     4.5       2,057    $46,035  2023\n",
            "\n",
            "[2429 rows x 5 columns]\n"
          ]
        }
      ]
    },
    {
      "cell_type": "code",
      "source": [
        "# Memilih hanya kolom 'Year'\n",
        "df = df[['Year']]\n",
        "\n",
        "# Menampilkan DataFrame untuk memastikan hanya kolom 'Year' yang tersisa\n",
        "print(df.head())\n"
      ],
      "metadata": {
        "colab": {
          "base_uri": "https://localhost:8080/"
        },
        "id": "wZrtnY4b_x4J",
        "outputId": "819c0dd9-dd32-491f-a3d4-31ba41d0d8d0"
      },
      "execution_count": 26,
      "outputs": [
        {
          "output_type": "stream",
          "name": "stdout",
          "text": [
            "   Year\n",
            "0  2021\n",
            "1  2022\n",
            "2  2022\n",
            "3  2020\n",
            "4  2021\n"
          ]
        }
      ]
    },
    {
      "cell_type": "code",
      "source": [
        "print(df.dtypes)"
      ],
      "metadata": {
        "colab": {
          "base_uri": "https://localhost:8080/"
        },
        "id": "6wc66L3F__kn",
        "outputId": "903d1b99-4813-466f-ddc5-c40ff8c67f0a"
      },
      "execution_count": 27,
      "outputs": [
        {
          "output_type": "stream",
          "name": "stdout",
          "text": [
            "Year    int64\n",
            "dtype: object\n"
          ]
        }
      ]
    },
    {
      "cell_type": "markdown",
      "source": [
        "### Menggabungkan df1 dengan kolom 'Year' dari df"
      ],
      "metadata": {
        "id": "1OjiDp0AF0w0"
      }
    },
    {
      "cell_type": "code",
      "source": [
        "# Menggabungkan df1 dengan kolom 'Year' dari df\n",
        "df_combined = pd.concat([df1, df['Year']], axis=1)\n",
        "\n",
        "# Menampilkan hasil gabungan\n",
        "print(\"DataFrame Setelah Menambahkan Kolom 'Year':\")\n",
        "print(df_combined)"
      ],
      "metadata": {
        "colab": {
          "base_uri": "https://localhost:8080/"
        },
        "id": "YutEZlZDAgEc",
        "outputId": "a814c30b-0bfa-4990-9c0d-8c5afcdee13d"
      },
      "execution_count": 28,
      "outputs": [
        {
          "output_type": "stream",
          "name": "stdout",
          "text": [
            "DataFrame Setelah Menambahkan Kolom 'Year':\n",
            "      Mileage  Rating  Review Count     Price  Year\n",
            "0     29636.0     3.9        1800.0   30900.0  2021\n",
            "1      5540.0     4.7        1239.0  139999.0  2022\n",
            "2      4890.0     4.7        1239.0  132999.0  2022\n",
            "3     29746.0     4.8         752.0   58587.0  2020\n",
            "4     32631.0     5.0        1502.0   95990.0  2021\n",
            "...       ...     ...           ...       ...   ...\n",
            "839       NaN     NaN           NaN       NaN  2023\n",
            "871       NaN     NaN           NaN       NaN  2023\n",
            "902       NaN     NaN           NaN       NaN  2023\n",
            "2249      NaN     NaN           NaN       NaN  2021\n",
            "2349      NaN     NaN           NaN       NaN  2021\n",
            "\n",
            "[2429 rows x 5 columns]\n"
          ]
        }
      ]
    },
    {
      "cell_type": "markdown",
      "source": [
        "### Menghapus baris dengan NaN"
      ],
      "metadata": {
        "id": "ltZm7E0FFynb"
      }
    },
    {
      "cell_type": "code",
      "source": [
        "# Menghapus baris dengan NaN\n",
        "df_combined = df_combined.dropna()\n",
        "\n",
        "# Menampilkan DataFrame gabungan setelah menghapus NaN\n",
        "print(\"\\nDataFrame Gabungan Setelah Menghapus NaN:\")\n",
        "print(df_combined)"
      ],
      "metadata": {
        "colab": {
          "base_uri": "https://localhost:8080/"
        },
        "id": "xUOpg90IBKj1",
        "outputId": "279f8e58-de38-4728-f0f1-e2f8bc130f33"
      },
      "execution_count": 29,
      "outputs": [
        {
          "output_type": "stream",
          "name": "stdout",
          "text": [
            "\n",
            "DataFrame Gabungan Setelah Menghapus NaN:\n",
            "      Mileage    Rating  Review Count     Price  Year\n",
            "0     29636.0  3.900000        1800.0   30900.0  2021\n",
            "1      5540.0  4.700000        1239.0  139999.0  2022\n",
            "2      4890.0  4.700000        1239.0  132999.0  2022\n",
            "3     29746.0  4.800000         752.0   58587.0  2020\n",
            "4     32631.0  5.000000        1502.0   95990.0  2021\n",
            "...       ...       ...           ...       ...   ...\n",
            "2424  54422.0  4.533724         236.0   53490.0  2021\n",
            "2425  11395.0  4.500000        1334.0   89599.0  2022\n",
            "2426  30392.0  4.900000        2375.0   32890.0  2021\n",
            "2427   3413.0  4.800000        1758.0   53983.0  2023\n",
            "2428   6336.0  4.500000        2057.0   46035.0  2023\n",
            "\n",
            "[2396 rows x 5 columns]\n"
          ]
        }
      ]
    },
    {
      "cell_type": "code",
      "source": [
        "df = df_combined"
      ],
      "metadata": {
        "id": "uHp02yVLBvof"
      },
      "execution_count": 30,
      "outputs": []
    },
    {
      "cell_type": "markdown",
      "source": [
        "### Summary Linear Regresi"
      ],
      "metadata": {
        "id": "59EhR89XFlDo"
      }
    },
    {
      "cell_type": "code",
      "source": [
        "# Menentukan variabel independen dan dependen\n",
        "X = df[['Mileage', 'Review Count', 'Year']]\n",
        "y = df['Price']\n",
        "\n",
        "# Menambahkan konstanta\n",
        "X = sm.add_constant(X)\n",
        "\n",
        "# Memastikan tidak ada nilai NaN dan tipe data yang tidak sesuai\n",
        "X = X.apply(pd.to_numeric, errors='coerce')\n",
        "y = pd.to_numeric(y, errors='coerce')\n",
        "\n",
        "# Menghapus baris dengan nilai NaN\n",
        "X = X.dropna()\n",
        "y = y[X.index]  # Memastikan y sesuai dengan X setelah dropna\n",
        "\n",
        "# Melakukan regresi linear\n",
        "model = sm.OLS(y, X).fit()\n",
        "\n",
        "# Menampilkan ringkasan hasil regresi\n",
        "print(model.summary())"
      ],
      "metadata": {
        "colab": {
          "base_uri": "https://localhost:8080/"
        },
        "id": "bwlPSsoA9HZ-",
        "outputId": "1011833c-64de-40e1-a723-ac2c1ad3e168"
      },
      "execution_count": 31,
      "outputs": [
        {
          "output_type": "stream",
          "name": "stdout",
          "text": [
            "                            OLS Regression Results                            \n",
            "==============================================================================\n",
            "Dep. Variable:                  Price   R-squared:                       0.078\n",
            "Model:                            OLS   Adj. R-squared:                  0.077\n",
            "Method:                 Least Squares   F-statistic:                     67.89\n",
            "Date:                Tue, 17 Sep 2024   Prob (F-statistic):           3.96e-42\n",
            "Time:                        05:15:56   Log-Likelihood:                -28088.\n",
            "No. Observations:                2396   AIC:                         5.618e+04\n",
            "Df Residuals:                    2392   BIC:                         5.621e+04\n",
            "Df Model:                           3                                         \n",
            "Covariance Type:            nonrobust                                         \n",
            "================================================================================\n",
            "                   coef    std err          t      P>|t|      [0.025      0.975]\n",
            "--------------------------------------------------------------------------------\n",
            "const        -1.971e+06   1.22e+06     -1.615      0.106   -4.36e+06    4.22e+05\n",
            "Mileage         -0.4103      0.054     -7.611      0.000      -0.516      -0.305\n",
            "Review Count     1.0029      0.486      2.064      0.039       0.050       1.956\n",
            "Year          1006.0148    603.287      1.668      0.096    -177.004    2189.033\n",
            "==============================================================================\n",
            "Omnibus:                     1394.331   Durbin-Watson:                   1.958\n",
            "Prob(Omnibus):                  0.000   Jarque-Bera (JB):            10886.296\n",
            "Skew:                           2.730   Prob(JB):                         0.00\n",
            "Kurtosis:                      11.902   Cond. No.                     5.39e+07\n",
            "==============================================================================\n",
            "\n",
            "Notes:\n",
            "[1] Standard Errors assume that the covariance matrix of the errors is correctly specified.\n",
            "[2] The condition number is large, 5.39e+07. This might indicate that there are\n",
            "strong multicollinearity or other numerical problems.\n"
          ]
        }
      ]
    },
    {
      "cell_type": "markdown",
      "source": [
        "### Kesimpulan Singkat\n",
        "* Model Regresi: Hasil menunjukkan model dengan R-squared 0.078, artinya hanya 7.8% dari variabilitas harga yang dapat dijelaskan oleh variabel independen.\n",
        "* Variabel Signifikan: Mileage dan Review Count signifikan secara statistik, sedangkan Year tidak signifikan.\n",
        "* Masalah Multikolinearitas: Kondisi model menunjukkan adanya potensi multikolinearitas tinggi yang perlu diatasi.\n",
        "\n",
        "Rekomendasi: Evaluasi variabel lain, tangani multikolinearitas, dan pertimbangkan metode model alternatif untuk meningkatkan akurasi."
      ],
      "metadata": {
        "id": "0NyZmLVACZvS"
      }
    },
    {
      "cell_type": "markdown",
      "source": [
        "### Model Linear Regression"
      ],
      "metadata": {
        "id": "rpnTd6guE9lj"
      }
    },
    {
      "cell_type": "code",
      "source": [
        "from IPython.display import Image\n",
        "\n",
        "# URL gambar langsung\n",
        "image_url = \"https://miro.medium.com/v2/resize:fit:1200/1*I-MxKoiWxJXLfExpvbT1eQ.png\"\n",
        "\n",
        "# Tampilkan gambar\n",
        "Image(url=image_url)\n"
      ],
      "metadata": {
        "colab": {
          "base_uri": "https://localhost:8080/",
          "height": 773
        },
        "id": "JJfz6K_pdknO",
        "outputId": "776034e6-2e16-4af0-a96f-5c8c669c5e65"
      },
      "execution_count": 32,
      "outputs": [
        {
          "output_type": "execute_result",
          "data": {
            "text/html": [
              "<img src=\"https://miro.medium.com/v2/resize:fit:1200/1*I-MxKoiWxJXLfExpvbT1eQ.png\"/>"
            ],
            "text/plain": [
              "<IPython.core.display.Image object>"
            ]
          },
          "metadata": {},
          "execution_count": 32
        }
      ]
    },
    {
      "cell_type": "code",
      "source": [
        "from IPython.display import Image\n",
        "\n",
        "# URL gambar langsung\n",
        "image_url = \"https://miro.medium.com/v2/resize:fit:1400/1*mQN0yjE3oWr6GBzY0953pw.png\"\n",
        "\n",
        "# Tampilkan gambar\n",
        "Image(url=image_url)"
      ],
      "metadata": {
        "colab": {
          "base_uri": "https://localhost:8080/",
          "height": 589
        },
        "id": "i87fxoSpd8I9",
        "outputId": "156cff4a-4a4a-439e-ea1b-02ebeb5e5485"
      },
      "execution_count": 33,
      "outputs": [
        {
          "output_type": "execute_result",
          "data": {
            "text/html": [
              "<img src=\"https://miro.medium.com/v2/resize:fit:1400/1*mQN0yjE3oWr6GBzY0953pw.png\"/>"
            ],
            "text/plain": [
              "<IPython.core.display.Image object>"
            ]
          },
          "metadata": {},
          "execution_count": 33
        }
      ]
    },
    {
      "cell_type": "markdown",
      "source": [],
      "metadata": {
        "id": "uaDzlugxFSqy"
      }
    },
    {
      "cell_type": "code",
      "source": [
        "from sklearn.model_selection import train_test_split\n",
        "from sklearn.linear_model import LinearRegression\n",
        "from sklearn.metrics import mean_squared_error, r2_score\n",
        "\n",
        "# Menentukan variabel independen dan dependen\n",
        "X = df[['Review Count']]\n",
        "y = df['Price']\n",
        "\n",
        "# Membagi data menjadi 80% pelatihan dan 20% pengujian\n",
        "X_train, X_test, y_train, y_test = train_test_split(X, y, test_size=0.2, random_state=42)\n",
        "\n",
        "# Membuat dan melatih model regresi linear\n",
        "model = LinearRegression()\n",
        "model.fit(X_train, y_train)\n",
        "\n",
        "# Membuat prediksi\n",
        "y_pred = model.predict(X_test)\n",
        "\n",
        "# Menghitung metrik evaluasi\n",
        "mse = mean_squared_error(y_test, y_pred)\n",
        "r2 = r2_score(y_test, y_pred)\n",
        "\n",
        "# Menampilkan hasil evaluasi\n",
        "print(f\"Mean Squared Error: {mse}\")\n",
        "print(f\"R-squared: {r2}\")\n",
        "\n",
        "# Plot hasil\n",
        "plt.scatter(X_test, y_test, color='blue', label='Actual Data')\n",
        "plt.plot(X_test, y_pred, color='red', linewidth=2, label='Fitted Line')\n",
        "plt.xlabel('Review Count')\n",
        "plt.ylabel('Price')\n",
        "plt.title('Review Count vs Price')\n",
        "plt.legend()\n",
        "plt.show()"
      ],
      "metadata": {
        "colab": {
          "base_uri": "https://localhost:8080/",
          "height": 509
        },
        "id": "BJ3r34IF-cPy",
        "outputId": "8810cbbe-29c9-4777-e7e6-f7cf5e4952c8"
      },
      "execution_count": 34,
      "outputs": [
        {
          "output_type": "stream",
          "name": "stdout",
          "text": [
            "Mean Squared Error: 1032568742.2002233\n",
            "R-squared: -0.002408186139312818\n"
          ]
        },
        {
          "output_type": "display_data",
          "data": {
            "text/plain": [
              "<Figure size 640x480 with 1 Axes>"
            ],
            "image/png": "[encoded data removed]"
          },
          "metadata": {}
        }
      ]
    },
    {
      "cell_type": "markdown",
      "source": [
        "### Kesimpulan\n",
        "* Mean Squared Error (MSE): 1,032,568,742.20\n",
        "\n",
        "* MSE yang tinggi menunjukkan bahwa rata-rata kesalahan prediksi model cukup besar.\n",
        "R-squared: -0.0024\n",
        "\n",
        "Nilai R-squared negatif berarti model tidak hanya buruk dalam menjelaskan variabilitas data, tetapi juga lebih buruk daripada model yang hanya menggunakan rata-rata harga sebagai prediksi."
      ],
      "metadata": {
        "id": "PaMlikMrDZq2"
      }
    },
    {
      "cell_type": "markdown",
      "source": [
        "### Menghitung Persentase Penyimpangan"
      ],
      "metadata": {
        "id": "4i4WqMFDE0mA"
      }
    },
    {
      "cell_type": "code",
      "source": [
        "import pandas as pd\n",
        "from sklearn.metrics import mean_absolute_error\n",
        "\n",
        "# Misalkan Anda sudah memiliki model yang dilatih dan data uji yang tersedia\n",
        "# Contoh data uji dan prediksi\n",
        "X_test = pd.DataFrame({\n",
        "    'Review Count': [10, 20, 30, 40, 50]  # Sesuaikan dengan data uji yang sebenarnya\n",
        "})\n",
        "y_test = pd.Series([35000, 40000, 37000, 42000, 43000])  # Sesuaikan dengan nilai asli\n",
        "\n",
        "# Melakukan prediksi dengan data uji\n",
        "y_test_pred = model.predict(X_test)\n",
        "\n",
        "# Menghitung Mean Absolute Error (MAE)\n",
        "mae = mean_absolute_error(y_test, y_test_pred)\n",
        "\n",
        "# Menghitung rata-rata harga asli\n",
        "mean_price = y_test.mean()\n",
        "\n",
        "# Menghitung persentase penyimpangan\n",
        "percent_deviation = (mae / mean_price) * 100\n",
        "\n",
        "# Menampilkan hasil\n",
        "print(f\"Mean Absolute Error (MAE): {mae}\")\n",
        "print(f\"Persentase Penyimpangan: {percent_deviation:.2f}%\")\n",
        "\n",
        "# Jika Anda ingin membandingkan nilai asli dan prediksi secara langsung\n",
        "comparison_df = pd.DataFrame({\n",
        "    'Review Count': X_test['Review Count'],\n",
        "    'Harga Asli': y_test,\n",
        "    'Prediksi Harga': y_test_pred,\n",
        "    'Selisih': y_test - y_test_pred\n",
        "})\n",
        "\n",
        "print(\"\\nPerbandingan Nilai Asli dan Prediksi:\")\n",
        "print(comparison_df)\n"
      ],
      "metadata": {
        "colab": {
          "base_uri": "https://localhost:8080/"
        },
        "id": "MO-LtJLEDEIF",
        "outputId": "1c00e29e-067a-4355-d380-65334c4c363f"
      },
      "execution_count": 35,
      "outputs": [
        {
          "output_type": "stream",
          "name": "stdout",
          "text": [
            "Mean Absolute Error (MAE): 14917.137397384126\n",
            "Persentase Penyimpangan: 37.86%\n",
            "\n",
            "Perbandingan Nilai Asli dan Prediksi:\n",
            "   Review Count  Harga Asli  Prediksi Harga       Selisih\n",
            "0            10       35000    54291.628675 -19291.628675\n",
            "1            20       40000    54304.383036 -14304.383036\n",
            "2            30       37000    54317.137397 -17317.137397\n",
            "3            40       42000    54329.891759 -12329.891759\n",
            "4            50       43000    54342.646120 -11342.646120\n"
          ]
        }
      ]
    },
    {
      "cell_type": "markdown",
      "source": [
        "## Kesimpulan Akhir Model Linear Regression"
      ],
      "metadata": {
        "id": "r3DHO3o4EsCz"
      }
    },
    {
      "cell_type": "markdown",
      "source": [
        "Model regresi linear menunjukkan:\n",
        "\n",
        "* Mean Absolute Error (MAE): 14,917.14\n",
        "* Persentase Penyimpangan: 37.86%\n",
        "Model memprediksi harga dengan kesalahan rata-rata sekitar 37.86% dari nilai asli, yang menunjukkan bahwa prediksi model cukup jauh dari nilai sebenarnya"
      ],
      "metadata": {
        "id": "4xjqbiEeEkPV"
      }
    },
    {
      "cell_type": "code",
      "source": [
        "# Ambil hanya kolom 'Price' dan 'Review Count'\n",
        "df_selected = df[['Price', 'Review Count']]"
      ],
      "metadata": {
        "id": "jXPZh-AZDs9G"
      },
      "execution_count": 36,
      "outputs": []
    },
    {
      "cell_type": "code",
      "source": [
        "# Simpan DataFrame yang telah dipilih ke file CSV\n",
        "df_selected.to_csv('price_review_count.csv', index=False)\n",
        "\n",
        "# Unduh file CSV\n",
        "from google.colab import files\n",
        "files.download('price_review_count.csv')\n"
      ],
      "metadata": {
        "colab": {
          "base_uri": "https://localhost:8080/",
          "height": 17
        },
        "id": "8JH0aTa2bsxe",
        "outputId": "25ab07a2-17bc-438d-822b-fa9431f466f3"
      },
      "execution_count": 37,
      "outputs": [
        {
          "output_type": "display_data",
          "data": {
            "text/plain": [
              "<IPython.core.display.Javascript object>"
            ],
            "application/javascript": [
              "\n",
              "    async function download(id, filename, size) {\n",
              "      if (!google.colab.kernel.accessAllowed) {\n",
              "        return;\n",
              "      }\n",
              "      const div = document.createElement('div');\n",
              "      const label = document.createElement('label');\n",
              "      label.textContent = `Downloading \"${filename}\": `;\n",
              "      div.appendChild(label);\n",
              "      const progress = document.createElement('progress');\n",
              "      progress.max = size;\n",
              "      div.appendChild(progress);\n",
              "      document.body.appendChild(div);\n",
              "\n",
              "      const buffers = [];\n",
              "      let downloaded = 0;\n",
              "\n",
              "      const channel = await google.colab.kernel.comms.open(id);\n",
              "      // Send a message to notify the kernel that we're ready.\n",
              "      channel.send({})\n",
              "\n",
              "      for await (const message of channel.messages) {\n",
              "        // Send a message to notify the kernel that we're ready.\n",
              "        channel.send({})\n",
              "        if (message.buffers) {\n",
              "          for (const buffer of message.buffers) {\n",
              "            buffers.push(buffer);\n",
              "            downloaded += buffer.byteLength;\n",
              "            progress.value = downloaded;\n",
              "          }\n",
              "        }\n",
              "      }\n",
              "      const blob = new Blob(buffers, {type: 'application/binary'});\n",
              "      const a = document.createElement('a');\n",
              "      a.href = window.URL.createObjectURL(blob);\n",
              "      a.download = filename;\n",
              "      div.appendChild(a);\n",
              "      a.click();\n",
              "      div.remove();\n",
              "    }\n",
              "  "
            ]
          },
          "metadata": {}
        },
        {
          "output_type": "display_data",
          "data": {
            "text/plain": [
              "<IPython.core.display.Javascript object>"
            ],
            "application/javascript": [
              "download(\"download_e4fb4319-ebf6-43b1-8b88-52c70365aafc\", \"price_review_count.csv\", 34464)"
            ]
          },
          "metadata": {}
        }
      ]
    },
    {
      "cell_type": "code",
      "source": [],
      "metadata": {
        "id": "H-ARRvBBcNS6"
      },
      "execution_count": 37,
      "outputs": []
    }
  ]
}